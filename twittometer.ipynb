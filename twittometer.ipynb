{
 "cells": [
  {
   "cell_type": "markdown",
   "metadata": {},
   "source": [
    "#### Jupyter Notebook for Twittometer  "
   ]
  },
  {
   "cell_type": "markdown",
   "metadata": {},
   "source": [
    "Content of *utils.py* that has *twminer* function is copied below"
   ]
  },
  {
   "cell_type": "code",
   "execution_count": 3,
   "metadata": {},
   "outputs": [],
   "source": [
    "from textblob import TextBlob\n",
    "import tweepy\n",
    "import twkeys\n",
    "\n",
    "def twminer(keyword, twcount):\n",
    "    \"\"\"Search for Tweets for a keyword and determine Tweets sentiments\"\"\"\n",
    "\n",
    "    # Authentication with Twitter using API keys stored in twkeys.py file\n",
    "    auth = tweepy.OAuthHandler(twkeys.C_KEY, twkeys.C_SECRET)\n",
    "    auth.set_access_token(twkeys.A_TOKEN, twkeys.A_SECRET)\n",
    "    api = tweepy.API(auth, wait_on_rate_limit=True)\n",
    "    # Create dictionary to store tweet number, tweet sentiment and tweet text\n",
    "    twdata = {'twt_number': [],\n",
    "              'twt_polarity': [],\n",
    "              'twt_text': []\n",
    "              }\n",
    "    # Create object that stores found tweets\n",
    "    twobject = tweepy.Cursor(api.search,\n",
    "                               keyword,\n",
    "                               lang = \"en\").items(twcount)\n",
    "    # A loop to iterate over all found tweets\n",
    "    for cnt, tw in enumerate(twobject):\n",
    "        # Error handling in case siomething went wrong with Twitter API\n",
    "        try:\n",
    "            twdata['twt_number'].append(cnt)\n",
    "            # Sentiment analysis with TextBlob\n",
    "            textanalysis = TextBlob(tw.text)\n",
    "            twdata['twt_polarity'].append(textanalysis.sentiment.polarity)\n",
    "            # Text for each tweet is also stored\n",
    "            twdata['twt_text'].append(tw.text)\n",
    "        except tweepy.TweepError as twerror:\n",
    "            print(twerror.reason)\n",
    "    return twdata"
   ]
  },
  {
   "cell_type": "code",
   "execution_count": 4,
   "metadata": {},
   "outputs": [],
   "source": [
    "# running the code to find 1000 or less Tweets that mention 'sharks':\n",
    "results = twminer('sharks', 1000)"
   ]
  },
  {
   "cell_type": "code",
   "execution_count": 13,
   "metadata": {},
   "outputs": [
    {
     "data": {
      "text/plain": [
       "1000"
      ]
     },
     "execution_count": 13,
     "metadata": {},
     "output_type": "execute_result"
    }
   ],
   "source": [
    "# checking how many Tweets were returned\n",
    "len(results['twt_text'])"
   ]
  },
  {
   "cell_type": "code",
   "execution_count": 15,
   "metadata": {},
   "outputs": [
    {
     "data": {
      "text/plain": [
       "0.16698725136408776"
      ]
     },
     "execution_count": 15,
     "metadata": {},
     "output_type": "execute_result"
    }
   ],
   "source": [
    "# calculating 'average' polarity\n",
    "sum(results['twt_polarity'])/len(results['twt_text'])"
   ]
  },
  {
   "cell_type": "code",
   "execution_count": 17,
   "metadata": {},
   "outputs": [
    {
     "name": "stdout",
     "output_type": "stream",
     "text": [
      "['Happy Shark Week! Head to the DFNC this week to learn all about sharks! No class on Wednesday this week for Nature… https://t.co/rveizhNSMG', '@Dannydchill @A_WhiteShark @MA_Sharks “Should I cut the line” as The guy continues to film while the kid with no li… https://t.co/oxEh40eNQY', '@SharkWeek Looks less about sharks and more about celebrities.', 'RT @KKurzNHL: Explaining Kevin Labanc’s modest $1 million contract: Trusting the Sharks and his own development  https://t.co/F7mWinpFwI', 'Scientists discover new species of tiny sharks that glow in the dark https://t.co/DtJRNnjmSJ https://t.co/KFPePMRIlJ']\n"
     ]
    }
   ],
   "source": [
    "# looking at the text of first five Tweets\n",
    "print(results['twt_text'][0:5])"
   ]
  },
  {
   "cell_type": "code",
   "execution_count": 26,
   "metadata": {},
   "outputs": [
    {
     "name": "stdout",
     "output_type": "stream",
     "text": [
      "Tweet number 1:  Happy Shark Week! Head to the DFNC this week to learn all about sharks! No class on Wednesday this week for Nature… https://t.co/rveizhNSMG\n",
      "Tweet number 2:  @Dannydchill @A_WhiteShark @MA_Sharks “Should I cut the line” as The guy continues to film while the kid with no li… https://t.co/oxEh40eNQY\n",
      "Tweet number 3:  @SharkWeek Looks less about sharks and more about celebrities.\n",
      "Tweet number 4:  RT @KKurzNHL: Explaining Kevin Labanc’s modest $1 million contract: Trusting the Sharks and his own development  https://t.co/F7mWinpFwI\n",
      "Tweet number 5:  Scientists discover new species of tiny sharks that glow in the dark https://t.co/DtJRNnjmSJ https://t.co/KFPePMRIlJ\n"
     ]
    }
   ],
   "source": [
    "# printing it nicely with every\n",
    "\n",
    "for n, t in enumerate(results['twt_text'][0:5]):\n",
    "    print('Tweet number ' + str(n+1) + ':  ' + t)"
   ]
  }
 ],
 "metadata": {
  "kernelspec": {
   "display_name": "Python 3",
   "language": "python",
   "name": "python3"
  },
  "language_info": {
   "codemirror_mode": {
    "name": "ipython",
    "version": 3
   },
   "file_extension": ".py",
   "mimetype": "text/x-python",
   "name": "python",
   "nbconvert_exporter": "python",
   "pygments_lexer": "ipython3",
   "version": "3.6.8"
  }
 },
 "nbformat": 4,
 "nbformat_minor": 2
}
